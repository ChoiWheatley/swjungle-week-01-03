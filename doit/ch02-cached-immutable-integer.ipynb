{
 "cells": [
  {
   "cell_type": "markdown",
   "metadata": {},
   "source": [
    "Doit! p.70 누적변수 이야기가 나온 참에 정수형 리터럴이 메모리에 이미 저장되어있고, 그 위치를 변수가 가리키는 것으로 이해하는 데에 의문이 들었다.\n",
    "\n",
    "```python\n",
    "a = 1\n",
    "a += 1\n",
    "```\n",
    "\n",
    "a 는 1 리터럴을 가리키고 있다가 `+=` 연산자에 의해 2 리터럴을 가리키게 된다. 이때 `+=`는 누적대입 연산자이고, `a`는 누적변수라고 한다.\n",
    "\n",
    "여기서 의문이 드는게, 결국 모든 리터럴들은 메모리에 로드가 되어있어야 그것을 참조할 수 있게 되는데, 정수는... 알다시피 무한하다. 그렇다면 일종의 바운더리가 있다는 셈인데, 그것을 나누는 기준이 있을까?"
   ]
  },
  {
   "cell_type": "code",
   "execution_count": 1,
   "metadata": {},
   "outputs": [],
   "source": [
    "a =  256\n",
    "b = 256\n",
    "assert(a is b)"
   ]
  },
  {
   "cell_type": "code",
   "execution_count": 2,
   "metadata": {},
   "outputs": [],
   "source": [
    "a = 257\n",
    "b = 257\n",
    "assert(a is not b)"
   ]
  },
  {
   "cell_type": "markdown",
   "metadata": {},
   "source": [
    "[참고 sof](https://stackoverflow.com/questions/63188021/why-python-integer-caches-range-5-256-dont-work-in-similar-way-on-all-platf)\n",
    "\n",
    "-5부터 256까지 캐싱이 되어있는 줄로만 알았으나, IDE와 파이썬 구현체에 따라 얼마든지 달라질 수 있다는 것에 충격을 받았다."
   ]
  },
  {
   "cell_type": "code",
   "execution_count": 5,
   "metadata": {},
   "outputs": [],
   "source": [
    "def test():\n",
    "    a = 257\n",
    "    b = 257\n",
    "    return (a is b)"
   ]
  },
  {
   "cell_type": "code",
   "execution_count": 6,
   "metadata": {},
   "outputs": [
    {
     "data": {
      "text/plain": [
       "True"
      ]
     },
     "execution_count": 6,
     "metadata": {},
     "output_type": "execute_result"
    }
   ],
   "source": [
    "test()"
   ]
  },
  {
   "cell_type": "markdown",
   "metadata": {},
   "source": [
    "봐봐, 꼭 256까지만은 아니라니까! 파이썬도 최적화 괴물이기 때문에 정수 리터럴 캐시 범위도 스스로 판단할 수 있다는 것을 보여준다."
   ]
  }
 ],
 "metadata": {
  "kernelspec": {
   "display_name": "Python 3",
   "language": "python",
   "name": "python3"
  },
  "language_info": {
   "codemirror_mode": {
    "name": "ipython",
    "version": 3
   },
   "file_extension": ".py",
   "mimetype": "text/x-python",
   "name": "python",
   "nbconvert_exporter": "python",
   "pygments_lexer": "ipython3",
   "version": "3.11.4"
  },
  "orig_nbformat": 4
 },
 "nbformat": 4,
 "nbformat_minor": 2
}
